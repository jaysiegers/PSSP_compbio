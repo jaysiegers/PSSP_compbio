{
 "cells": [
  {
   "cell_type": "code",
   "execution_count": 12,
   "metadata": {
    "_cell_guid": "b1076dfc-b9ad-4769-8c92-a6c4dae69d19",
    "_uuid": "8f2839f25d086af736a60e9eeb907d3b93b6e0e5",
    "execution": {
     "iopub.execute_input": "2023-12-14T16:03:07.514522Z",
     "iopub.status.busy": "2023-12-14T16:03:07.513659Z",
     "iopub.status.idle": "2023-12-14T16:03:19.758462Z",
     "shell.execute_reply": "2023-12-14T16:03:19.757668Z",
     "shell.execute_reply.started": "2023-12-14T16:03:07.514486Z"
    }
   },
   "outputs": [],
   "source": [
    "import pandas as pd\n",
    "import numpy as np\n",
    "from sklearn.model_selection import train_test_split\n",
    "from sklearn.preprocessing import LabelEncoder\n",
    "from tensorflow.keras.preprocessing.sequence import pad_sequences\n",
    "from tensorflow.keras.models import Sequential, load_model\n",
    "from tensorflow.keras.layers import Embedding, LSTM, Dense, TimeDistributed"
   ]
  },
  {
   "cell_type": "code",
   "execution_count": 13,
   "metadata": {
    "execution": {
     "iopub.execute_input": "2023-12-14T16:03:19.761156Z",
     "iopub.status.busy": "2023-12-14T16:03:19.760482Z",
     "iopub.status.idle": "2023-12-14T16:03:20.006178Z",
     "shell.execute_reply": "2023-12-14T16:03:20.005222Z",
     "shell.execute_reply.started": "2023-12-14T16:03:19.761121Z"
    }
   },
   "outputs": [
    {
     "data": {
      "text/html": [
       "<div>\n",
       "<style scoped>\n",
       "    .dataframe tbody tr th:only-of-type {\n",
       "        vertical-align: middle;\n",
       "    }\n",
       "\n",
       "    .dataframe tbody tr th {\n",
       "        vertical-align: top;\n",
       "    }\n",
       "\n",
       "    .dataframe thead th {\n",
       "        text-align: right;\n",
       "    }\n",
       "</style>\n",
       "<table border=\"1\" class=\"dataframe\">\n",
       "  <thead>\n",
       "    <tr style=\"text-align: right;\">\n",
       "      <th></th>\n",
       "      <th>pdb_id</th>\n",
       "      <th>chain_code</th>\n",
       "      <th>seq</th>\n",
       "      <th>sst8</th>\n",
       "      <th>sst3</th>\n",
       "      <th>len_x</th>\n",
       "      <th>has_nonstd_aa</th>\n",
       "      <th>len_y</th>\n",
       "      <th>method</th>\n",
       "      <th>resol</th>\n",
       "      <th>rfac</th>\n",
       "      <th>freerfac</th>\n",
       "    </tr>\n",
       "  </thead>\n",
       "  <tbody>\n",
       "    <tr>\n",
       "      <th>0</th>\n",
       "      <td>5D8V</td>\n",
       "      <td>A</td>\n",
       "      <td>AAPANAVTADDPTAIALKYNQDATKSERVAAARPGLPPEEQHCANC...</td>\n",
       "      <td>CCCTTBCCTTCHHHHHHTCBSSGGGSCHHHHCCTTSCGGGCCGGGB...</td>\n",
       "      <td>CCCCCECCCCCHHHHHHCCECCHHHCCHHHHCCCCCCHHHCCHHHE...</td>\n",
       "      <td>83</td>\n",
       "      <td>False</td>\n",
       "      <td>83</td>\n",
       "      <td>XRAY</td>\n",
       "      <td>0.48</td>\n",
       "      <td>0.072</td>\n",
       "      <td>0.078</td>\n",
       "    </tr>\n",
       "    <tr>\n",
       "      <th>1</th>\n",
       "      <td>3NIR</td>\n",
       "      <td>A</td>\n",
       "      <td>TTCCPSIVARSNFNVCRLPGTPEALCATYTGCIIIPGATCPGDYAN</td>\n",
       "      <td>CEECSSHHHHHHHHHHHTTTCCHHHHHHHHSCEECSSSCCCTTSCC</td>\n",
       "      <td>CEECCCHHHHHHHHHHHCCCCCHHHHHHHHCCEECCCCCCCCCCCC</td>\n",
       "      <td>46</td>\n",
       "      <td>False</td>\n",
       "      <td>46</td>\n",
       "      <td>XRAY</td>\n",
       "      <td>0.48</td>\n",
       "      <td>0.127</td>\n",
       "      <td>NaN</td>\n",
       "    </tr>\n",
       "    <tr>\n",
       "      <th>2</th>\n",
       "      <td>5NW3</td>\n",
       "      <td>A</td>\n",
       "      <td>MAKWVCKICGYIYDEDAGDPDNGISPGTKFEELPDDWVCPICGAPK...</td>\n",
       "      <td>CCEEEETTTCCEEETTTCBGGGTBCTTCCGGGSCTTCBCTTTCCBG...</td>\n",
       "      <td>CCEEEECCCCCEEECCCCEHHHCECCCCCHHHCCCCCECCCCCCEH...</td>\n",
       "      <td>54</td>\n",
       "      <td>False</td>\n",
       "      <td>54</td>\n",
       "      <td>XRAY</td>\n",
       "      <td>0.59</td>\n",
       "      <td>0.135</td>\n",
       "      <td>0.146</td>\n",
       "    </tr>\n",
       "    <tr>\n",
       "      <th>3</th>\n",
       "      <td>1UCS</td>\n",
       "      <td>A</td>\n",
       "      <td>NKASVVANQLIPINTALTLIMMKAEVVTPMGIPAEEIPKLVGMQVN...</td>\n",
       "      <td>CCCEEEESSCBCTTCBCCGGGEEEECCSSCCSBGGGHHHHTTCBBS...</td>\n",
       "      <td>CCCEEEECCCECCCCECCHHHEEEECCCCCCCEHHHHHHHCCCEEC...</td>\n",
       "      <td>64</td>\n",
       "      <td>False</td>\n",
       "      <td>64</td>\n",
       "      <td>XRAY</td>\n",
       "      <td>0.62</td>\n",
       "      <td>0.139</td>\n",
       "      <td>0.155</td>\n",
       "    </tr>\n",
       "    <tr>\n",
       "      <th>4</th>\n",
       "      <td>3X2M</td>\n",
       "      <td>A</td>\n",
       "      <td>ATGGYVQQATGQASFTMYSGCGSPACGKAASGFTAAINQLAFGSAP...</td>\n",
       "      <td>CGGGCCCCSEEEEEEEEESCCSSCTTSCCBSSCEEEEEHHHHTSCT...</td>\n",
       "      <td>CHHHCCCCCEEEEEEEEECCCCCCCCCCCECCCEEEEEHHHHCCCC...</td>\n",
       "      <td>180</td>\n",
       "      <td>False</td>\n",
       "      <td>180</td>\n",
       "      <td>XRAY</td>\n",
       "      <td>0.64</td>\n",
       "      <td>0.122</td>\n",
       "      <td>0.129</td>\n",
       "    </tr>\n",
       "  </tbody>\n",
       "</table>\n",
       "</div>"
      ],
      "text/plain": [
       "  pdb_id chain_code                                                seq  \\\n",
       "0   5D8V          A  AAPANAVTADDPTAIALKYNQDATKSERVAAARPGLPPEEQHCANC...   \n",
       "1   3NIR          A     TTCCPSIVARSNFNVCRLPGTPEALCATYTGCIIIPGATCPGDYAN   \n",
       "2   5NW3          A  MAKWVCKICGYIYDEDAGDPDNGISPGTKFEELPDDWVCPICGAPK...   \n",
       "3   1UCS          A  NKASVVANQLIPINTALTLIMMKAEVVTPMGIPAEEIPKLVGMQVN...   \n",
       "4   3X2M          A  ATGGYVQQATGQASFTMYSGCGSPACGKAASGFTAAINQLAFGSAP...   \n",
       "\n",
       "                                                sst8  \\\n",
       "0  CCCTTBCCTTCHHHHHHTCBSSGGGSCHHHHCCTTSCGGGCCGGGB...   \n",
       "1     CEECSSHHHHHHHHHHHTTTCCHHHHHHHHSCEECSSSCCCTTSCC   \n",
       "2  CCEEEETTTCCEEETTTCBGGGTBCTTCCGGGSCTTCBCTTTCCBG...   \n",
       "3  CCCEEEESSCBCTTCBCCGGGEEEECCSSCCSBGGGHHHHTTCBBS...   \n",
       "4  CGGGCCCCSEEEEEEEEESCCSSCTTSCCBSSCEEEEEHHHHTSCT...   \n",
       "\n",
       "                                                sst3  len_x  has_nonstd_aa  \\\n",
       "0  CCCCCECCCCCHHHHHHCCECCHHHCCHHHHCCCCCCHHHCCHHHE...     83          False   \n",
       "1     CEECCCHHHHHHHHHHHCCCCCHHHHHHHHCCEECCCCCCCCCCCC     46          False   \n",
       "2  CCEEEECCCCCEEECCCCEHHHCECCCCCHHHCCCCCECCCCCCEH...     54          False   \n",
       "3  CCCEEEECCCECCCCECCHHHEEEECCCCCCCEHHHHHHHCCCEEC...     64          False   \n",
       "4  CHHHCCCCCEEEEEEEEECCCCCCCCCCCECCCEEEEEHHHHCCCC...    180          False   \n",
       "\n",
       "   len_y method  resol   rfac  freerfac  \n",
       "0     83   XRAY   0.48  0.072     0.078  \n",
       "1     46   XRAY   0.48  0.127       NaN  \n",
       "2     54   XRAY   0.59  0.135     0.146  \n",
       "3     64   XRAY   0.62  0.139     0.155  \n",
       "4    180   XRAY   0.64  0.122     0.129  "
      ]
     },
     "execution_count": 13,
     "metadata": {},
     "output_type": "execute_result"
    }
   ],
   "source": [
    "# Load dataset\n",
    "data=pd.read_csv('https://raw.githubusercontent.com/KirkDCO/pdb-secondary-structure-2022/master/raw_data/2022-12-17-pdb-intersect-pisces_pc30_r2.5.csv')\n",
    "data.head()"
   ]
  },
  {
   "cell_type": "code",
   "execution_count": 14,
   "metadata": {},
   "outputs": [
    {
     "name": "stdout",
     "output_type": "stream",
     "text": [
      "15079\n"
     ]
    },
    {
     "data": {
      "text/html": [
       "<div>\n",
       "<style scoped>\n",
       "    .dataframe tbody tr th:only-of-type {\n",
       "        vertical-align: middle;\n",
       "    }\n",
       "\n",
       "    .dataframe tbody tr th {\n",
       "        vertical-align: top;\n",
       "    }\n",
       "\n",
       "    .dataframe thead th {\n",
       "        text-align: right;\n",
       "    }\n",
       "</style>\n",
       "<table border=\"1\" class=\"dataframe\">\n",
       "  <thead>\n",
       "    <tr style=\"text-align: right;\">\n",
       "      <th></th>\n",
       "      <th>pdb_id</th>\n",
       "      <th>chain_code</th>\n",
       "      <th>seq</th>\n",
       "      <th>sst8</th>\n",
       "      <th>sst3</th>\n",
       "      <th>len_x</th>\n",
       "      <th>has_nonstd_aa</th>\n",
       "      <th>len_y</th>\n",
       "      <th>method</th>\n",
       "      <th>resol</th>\n",
       "      <th>rfac</th>\n",
       "      <th>freerfac</th>\n",
       "    </tr>\n",
       "  </thead>\n",
       "  <tbody>\n",
       "    <tr>\n",
       "      <th>0</th>\n",
       "      <td>5D8V</td>\n",
       "      <td>A</td>\n",
       "      <td>AAPANAVTADDPTAIALKYNQDATKSERVAAARPGLPPEEQHCANC...</td>\n",
       "      <td>CCCTTBCCTTCHHHHHHTCBSSGGGSCHHHHCCTTSCGGGCCGGGB...</td>\n",
       "      <td>CCCCCECCCCCHHHHHHCCECCHHHCCHHHHCCCCCCHHHCCHHHE...</td>\n",
       "      <td>83</td>\n",
       "      <td>False</td>\n",
       "      <td>83</td>\n",
       "      <td>XRAY</td>\n",
       "      <td>0.48</td>\n",
       "      <td>0.072</td>\n",
       "      <td>0.078</td>\n",
       "    </tr>\n",
       "    <tr>\n",
       "      <th>1</th>\n",
       "      <td>3NIR</td>\n",
       "      <td>A</td>\n",
       "      <td>TTCCPSIVARSNFNVCRLPGTPEALCATYTGCIIIPGATCPGDYAN</td>\n",
       "      <td>CEECSSHHHHHHHHHHHTTTCCHHHHHHHHSCEECSSSCCCTTSCC</td>\n",
       "      <td>CEECCCHHHHHHHHHHHCCCCCHHHHHHHHCCEECCCCCCCCCCCC</td>\n",
       "      <td>46</td>\n",
       "      <td>False</td>\n",
       "      <td>46</td>\n",
       "      <td>XRAY</td>\n",
       "      <td>0.48</td>\n",
       "      <td>0.127</td>\n",
       "      <td>NaN</td>\n",
       "    </tr>\n",
       "    <tr>\n",
       "      <th>2</th>\n",
       "      <td>5NW3</td>\n",
       "      <td>A</td>\n",
       "      <td>MAKWVCKICGYIYDEDAGDPDNGISPGTKFEELPDDWVCPICGAPK...</td>\n",
       "      <td>CCEEEETTTCCEEETTTCBGGGTBCTTCCGGGSCTTCBCTTTCCBG...</td>\n",
       "      <td>CCEEEECCCCCEEECCCCEHHHCECCCCCHHHCCCCCECCCCCCEH...</td>\n",
       "      <td>54</td>\n",
       "      <td>False</td>\n",
       "      <td>54</td>\n",
       "      <td>XRAY</td>\n",
       "      <td>0.59</td>\n",
       "      <td>0.135</td>\n",
       "      <td>0.146</td>\n",
       "    </tr>\n",
       "    <tr>\n",
       "      <th>3</th>\n",
       "      <td>1UCS</td>\n",
       "      <td>A</td>\n",
       "      <td>NKASVVANQLIPINTALTLIMMKAEVVTPMGIPAEEIPKLVGMQVN...</td>\n",
       "      <td>CCCEEEESSCBCTTCBCCGGGEEEECCSSCCSBGGGHHHHTTCBBS...</td>\n",
       "      <td>CCCEEEECCCECCCCECCHHHEEEECCCCCCCEHHHHHHHCCCEEC...</td>\n",
       "      <td>64</td>\n",
       "      <td>False</td>\n",
       "      <td>64</td>\n",
       "      <td>XRAY</td>\n",
       "      <td>0.62</td>\n",
       "      <td>0.139</td>\n",
       "      <td>0.155</td>\n",
       "    </tr>\n",
       "    <tr>\n",
       "      <th>4</th>\n",
       "      <td>3X2M</td>\n",
       "      <td>A</td>\n",
       "      <td>ATGGYVQQATGQASFTMYSGCGSPACGKAASGFTAAINQLAFGSAP...</td>\n",
       "      <td>CGGGCCCCSEEEEEEEEESCCSSCTTSCCBSSCEEEEEHHHHTSCT...</td>\n",
       "      <td>CHHHCCCCCEEEEEEEEECCCCCCCCCCCECCCEEEEEHHHHCCCC...</td>\n",
       "      <td>180</td>\n",
       "      <td>False</td>\n",
       "      <td>180</td>\n",
       "      <td>XRAY</td>\n",
       "      <td>0.64</td>\n",
       "      <td>0.122</td>\n",
       "      <td>0.129</td>\n",
       "    </tr>\n",
       "    <tr>\n",
       "      <th>...</th>\n",
       "      <td>...</td>\n",
       "      <td>...</td>\n",
       "      <td>...</td>\n",
       "      <td>...</td>\n",
       "      <td>...</td>\n",
       "      <td>...</td>\n",
       "      <td>...</td>\n",
       "      <td>...</td>\n",
       "      <td>...</td>\n",
       "      <td>...</td>\n",
       "      <td>...</td>\n",
       "      <td>...</td>\n",
       "    </tr>\n",
       "    <tr>\n",
       "      <th>15074</th>\n",
       "      <td>6CSV</td>\n",
       "      <td>A</td>\n",
       "      <td>AHMTRFLEEEELRSHHILERLDAHIEELKRESEKTVRQFTALKGSE...</td>\n",
       "      <td>CCHHHHHHHHHHHHHHHHHHHHHHHHHHHHHHHHHHHHHHHTCCHH...</td>\n",
       "      <td>CCHHHHHHHHHHHHHHHHHHHHHHHHHHHHHHHHHHHHHHHCCCHH...</td>\n",
       "      <td>90</td>\n",
       "      <td>False</td>\n",
       "      <td>90</td>\n",
       "      <td>XRAY</td>\n",
       "      <td>2.50</td>\n",
       "      <td>0.265</td>\n",
       "      <td>0.321</td>\n",
       "    </tr>\n",
       "    <tr>\n",
       "      <th>15075</th>\n",
       "      <td>2FRH</td>\n",
       "      <td>A</td>\n",
       "      <td>GSHMAITKINDCFELLSMVTYADKLKSLIKKEFSISFEEFAVLTYI...</td>\n",
       "      <td>CCSCCCCCCCSHHHHHHHHHHHHHHHHHHHHTTCCCHHHHHHHHHH...</td>\n",
       "      <td>CCCCCCCCCCCHHHHHHHHHHHHHHHHHHHHCCCCCHHHHHHHHHH...</td>\n",
       "      <td>127</td>\n",
       "      <td>False</td>\n",
       "      <td>127</td>\n",
       "      <td>XRAY</td>\n",
       "      <td>2.50</td>\n",
       "      <td>0.266</td>\n",
       "      <td>0.302</td>\n",
       "    </tr>\n",
       "    <tr>\n",
       "      <th>15076</th>\n",
       "      <td>6RP4</td>\n",
       "      <td>A</td>\n",
       "      <td>GFLGIFFTGADKNIEKATLYKNLIAKYQNNHFISLIILSALVSDSK...</td>\n",
       "      <td>CCSCCCCCCSSCCSHHHHHHHHHHHHTSSCHHHHHHHHHHHHHCTT...</td>\n",
       "      <td>CCCCCCCCCCCCCCHHHHHHHHHHHHCCCCHHHHHHHHHHHHHCCC...</td>\n",
       "      <td>125</td>\n",
       "      <td>False</td>\n",
       "      <td>125</td>\n",
       "      <td>XRAY</td>\n",
       "      <td>2.50</td>\n",
       "      <td>0.272</td>\n",
       "      <td>0.296</td>\n",
       "    </tr>\n",
       "    <tr>\n",
       "      <th>15077</th>\n",
       "      <td>2EUC</td>\n",
       "      <td>A</td>\n",
       "      <td>XQYFSPEQQYNAWIVSDLVKQIFHKRAGCSPGIHELAVFAEEHFHI...</td>\n",
       "      <td>CCCCCHHHHHHHHHHHHHHHHHHHHHBSSCCCHHHHHHHHHHTTCC...</td>\n",
       "      <td>CCCCCHHHHHHHHHHHHHHHHHHHHHECCCCCHHHHHHHHHHCCCC...</td>\n",
       "      <td>108</td>\n",
       "      <td>False</td>\n",
       "      <td>108</td>\n",
       "      <td>XRAY</td>\n",
       "      <td>2.50</td>\n",
       "      <td>0.274</td>\n",
       "      <td>0.328</td>\n",
       "    </tr>\n",
       "    <tr>\n",
       "      <th>15078</th>\n",
       "      <td>2FXO</td>\n",
       "      <td>A</td>\n",
       "      <td>GSSPLLKSAEREKEMASMKEEFTRLKEALEKSEARRKELEEKMVSL...</td>\n",
       "      <td>CCHHHHHHHHHHHHHHHHHHHHHHHHHHHHHHHHHHHHHHHHHHHH...</td>\n",
       "      <td>CCHHHHHHHHHHHHHHHHHHHHHHHHHHHHHHHHHHHHHHHHHHHH...</td>\n",
       "      <td>129</td>\n",
       "      <td>False</td>\n",
       "      <td>129</td>\n",
       "      <td>XRAY</td>\n",
       "      <td>2.50</td>\n",
       "      <td>0.277</td>\n",
       "      <td>0.349</td>\n",
       "    </tr>\n",
       "  </tbody>\n",
       "</table>\n",
       "<p>15079 rows × 12 columns</p>\n",
       "</div>"
      ],
      "text/plain": [
       "      pdb_id chain_code                                                seq  \\\n",
       "0       5D8V          A  AAPANAVTADDPTAIALKYNQDATKSERVAAARPGLPPEEQHCANC...   \n",
       "1       3NIR          A     TTCCPSIVARSNFNVCRLPGTPEALCATYTGCIIIPGATCPGDYAN   \n",
       "2       5NW3          A  MAKWVCKICGYIYDEDAGDPDNGISPGTKFEELPDDWVCPICGAPK...   \n",
       "3       1UCS          A  NKASVVANQLIPINTALTLIMMKAEVVTPMGIPAEEIPKLVGMQVN...   \n",
       "4       3X2M          A  ATGGYVQQATGQASFTMYSGCGSPACGKAASGFTAAINQLAFGSAP...   \n",
       "...      ...        ...                                                ...   \n",
       "15074   6CSV          A  AHMTRFLEEEELRSHHILERLDAHIEELKRESEKTVRQFTALKGSE...   \n",
       "15075   2FRH          A  GSHMAITKINDCFELLSMVTYADKLKSLIKKEFSISFEEFAVLTYI...   \n",
       "15076   6RP4          A  GFLGIFFTGADKNIEKATLYKNLIAKYQNNHFISLIILSALVSDSK...   \n",
       "15077   2EUC          A  XQYFSPEQQYNAWIVSDLVKQIFHKRAGCSPGIHELAVFAEEHFHI...   \n",
       "15078   2FXO          A  GSSPLLKSAEREKEMASMKEEFTRLKEALEKSEARRKELEEKMVSL...   \n",
       "\n",
       "                                                    sst8  \\\n",
       "0      CCCTTBCCTTCHHHHHHTCBSSGGGSCHHHHCCTTSCGGGCCGGGB...   \n",
       "1         CEECSSHHHHHHHHHHHTTTCCHHHHHHHHSCEECSSSCCCTTSCC   \n",
       "2      CCEEEETTTCCEEETTTCBGGGTBCTTCCGGGSCTTCBCTTTCCBG...   \n",
       "3      CCCEEEESSCBCTTCBCCGGGEEEECCSSCCSBGGGHHHHTTCBBS...   \n",
       "4      CGGGCCCCSEEEEEEEEESCCSSCTTSCCBSSCEEEEEHHHHTSCT...   \n",
       "...                                                  ...   \n",
       "15074  CCHHHHHHHHHHHHHHHHHHHHHHHHHHHHHHHHHHHHHHHTCCHH...   \n",
       "15075  CCSCCCCCCCSHHHHHHHHHHHHHHHHHHHHTTCCCHHHHHHHHHH...   \n",
       "15076  CCSCCCCCCSSCCSHHHHHHHHHHHHTSSCHHHHHHHHHHHHHCTT...   \n",
       "15077  CCCCCHHHHHHHHHHHHHHHHHHHHHBSSCCCHHHHHHHHHHTTCC...   \n",
       "15078  CCHHHHHHHHHHHHHHHHHHHHHHHHHHHHHHHHHHHHHHHHHHHH...   \n",
       "\n",
       "                                                    sst3  len_x  \\\n",
       "0      CCCCCECCCCCHHHHHHCCECCHHHCCHHHHCCCCCCHHHCCHHHE...     83   \n",
       "1         CEECCCHHHHHHHHHHHCCCCCHHHHHHHHCCEECCCCCCCCCCCC     46   \n",
       "2      CCEEEECCCCCEEECCCCEHHHCECCCCCHHHCCCCCECCCCCCEH...     54   \n",
       "3      CCCEEEECCCECCCCECCHHHEEEECCCCCCCEHHHHHHHCCCEEC...     64   \n",
       "4      CHHHCCCCCEEEEEEEEECCCCCCCCCCCECCCEEEEEHHHHCCCC...    180   \n",
       "...                                                  ...    ...   \n",
       "15074  CCHHHHHHHHHHHHHHHHHHHHHHHHHHHHHHHHHHHHHHHCCCHH...     90   \n",
       "15075  CCCCCCCCCCCHHHHHHHHHHHHHHHHHHHHCCCCCHHHHHHHHHH...    127   \n",
       "15076  CCCCCCCCCCCCCCHHHHHHHHHHHHCCCCHHHHHHHHHHHHHCCC...    125   \n",
       "15077  CCCCCHHHHHHHHHHHHHHHHHHHHHECCCCCHHHHHHHHHHCCCC...    108   \n",
       "15078  CCHHHHHHHHHHHHHHHHHHHHHHHHHHHHHHHHHHHHHHHHHHHH...    129   \n",
       "\n",
       "       has_nonstd_aa  len_y method  resol   rfac  freerfac  \n",
       "0              False     83   XRAY   0.48  0.072     0.078  \n",
       "1              False     46   XRAY   0.48  0.127       NaN  \n",
       "2              False     54   XRAY   0.59  0.135     0.146  \n",
       "3              False     64   XRAY   0.62  0.139     0.155  \n",
       "4              False    180   XRAY   0.64  0.122     0.129  \n",
       "...              ...    ...    ...    ...    ...       ...  \n",
       "15074          False     90   XRAY   2.50  0.265     0.321  \n",
       "15075          False    127   XRAY   2.50  0.266     0.302  \n",
       "15076          False    125   XRAY   2.50  0.272     0.296  \n",
       "15077          False    108   XRAY   2.50  0.274     0.328  \n",
       "15078          False    129   XRAY   2.50  0.277     0.349  \n",
       "\n",
       "[15079 rows x 12 columns]"
      ]
     },
     "execution_count": 14,
     "metadata": {},
     "output_type": "execute_result"
    }
   ],
   "source": [
    "print(data.shape[0])\n",
    "data"
   ]
  },
  {
   "cell_type": "code",
   "execution_count": 15,
   "metadata": {
    "execution": {
     "iopub.execute_input": "2023-12-14T16:03:20.007485Z",
     "iopub.status.busy": "2023-12-14T16:03:20.007197Z",
     "iopub.status.idle": "2023-12-14T16:03:26.049433Z",
     "shell.execute_reply": "2023-12-14T16:03:26.048642Z",
     "shell.execute_reply.started": "2023-12-14T16:03:20.007462Z"
    }
   },
   "outputs": [],
   "source": [
    "# Function to encode sequences\n",
    "def encode_sequences(sequences):\n",
    "    label_encoder = LabelEncoder()\n",
    "    unique_chars = set(''.join(sequences))\n",
    "    label_encoder.fit(list(unique_chars))\n",
    "    encoded_sequences = [label_encoder.transform(list(seq)) for seq in sequences]\n",
    "    return encoded_sequences, label_encoder\n",
    "\n",
    "# Encode seq and sst8:\n",
    "encoded_seq, seq_encoder = encode_sequences(data['seq'])\n",
    "encoded_sst8, sst8_encoder = encode_sequences(data['sst8'])"
   ]
  },
  {
   "cell_type": "code",
   "execution_count": 16,
   "metadata": {
    "execution": {
     "iopub.execute_input": "2023-12-14T16:03:26.051928Z",
     "iopub.status.busy": "2023-12-14T16:03:26.051633Z",
     "iopub.status.idle": "2023-12-14T16:03:26.062602Z",
     "shell.execute_reply": "2023-12-14T16:03:26.061741Z",
     "shell.execute_reply.started": "2023-12-14T16:03:26.051904Z"
    }
   },
   "outputs": [],
   "source": [
    "# Split the data into training and validation sets\n",
    "X_train, X_val, y_train, y_val = train_test_split(encoded_seq, encoded_sst8, test_size=0.2, random_state=42)"
   ]
  },
  {
   "cell_type": "code",
   "execution_count": 29,
   "metadata": {
    "execution": {
     "iopub.execute_input": "2023-12-14T16:03:26.064062Z",
     "iopub.status.busy": "2023-12-14T16:03:26.063731Z",
     "iopub.status.idle": "2023-12-14T16:03:26.223091Z",
     "shell.execute_reply": "2023-12-14T16:03:26.222241Z",
     "shell.execute_reply.started": "2023-12-14T16:03:26.064032Z"
    }
   },
   "outputs": [
    {
     "name": "stdout",
     "output_type": "stream",
     "text": [
      "2128\n",
      "118\n",
      "2520\n",
      "4059\n",
      "7537\n"
     ]
    }
   ],
   "source": [
    "max_seq_length = max(max(len(s) for s in X_train), max(len(s) for s in y_train))\n",
    "#max_seq_val_length = max(max(len(s) for s in X_val), max(len(s) for s in y_val))\n",
    "print(max_seq_length)\n",
    "\n",
    "X_train_padded = pad_sequences(X_train, maxlen=max_seq_length, padding='post')\n",
    "X_val_padded = pad_sequences(X_val, maxlen=max_seq_length, padding='post')\n",
    "y_train_padded = pad_sequences(y_train, maxlen=max_seq_length, padding='post')\n",
    "y_val_padded = pad_sequences(y_val, maxlen=max_seq_length, padding='post')\n",
    "\n",
    "for index, element in enumerate(X_train):\n",
    "    if len(element) >= 1400:\n",
    "        print(index)\n",
    "\n",
    "\n",
    "#print(X_train_padded[3])\n"
   ]
  },
  {
   "cell_type": "code",
   "execution_count": 18,
   "metadata": {
    "execution": {
     "iopub.execute_input": "2023-12-14T16:03:26.224889Z",
     "iopub.status.busy": "2023-12-14T16:03:26.224516Z",
     "iopub.status.idle": "2023-12-14T16:03:26.229631Z",
     "shell.execute_reply": "2023-12-14T16:03:26.228681Z",
     "shell.execute_reply.started": "2023-12-14T16:03:26.224854Z"
    }
   },
   "outputs": [
    {
     "name": "stdout",
     "output_type": "stream",
     "text": [
      "21 8\n",
      "['A' 'C' 'D' 'E' 'F' 'G' 'H' 'I' 'K' 'L' 'M' 'N' 'P' 'Q' 'R' 'S' 'T' 'V'\n",
      " 'W' 'X' 'Y'] ['B' 'C' 'E' 'G' 'H' 'I' 'S' 'T']\n"
     ]
    }
   ],
   "source": [
    "num_amino_acids = len(seq_encoder.classes_)  \n",
    "num_classes = len(sst8_encoder.classes_) \n",
    "print (num_amino_acids, num_classes)\n",
    "print(seq_encoder.classes_, sst8_encoder.classes_)"
   ]
  },
  {
   "cell_type": "code",
   "execution_count": 236,
   "metadata": {
    "execution": {
     "iopub.execute_input": "2023-12-14T16:03:26.230953Z",
     "iopub.status.busy": "2023-12-14T16:03:26.230650Z",
     "iopub.status.idle": "2023-12-14T16:03:29.529861Z",
     "shell.execute_reply": "2023-12-14T16:03:29.528813Z",
     "shell.execute_reply.started": "2023-12-14T16:03:26.230929Z"
    }
   },
   "outputs": [],
   "source": [
    "#RNN MODEl\n",
    "model = Sequential()\n",
    "model.add(Embedding(input_dim=num_amino_acids, output_dim=128, input_length=max_seq_length))\n",
    "model.add(LSTM(64, return_sequences=True))\n",
    "model.add(TimeDistributed(Dense(num_classes, activation='softmax')))\n",
    "model.compile(loss='sparse_categorical_crossentropy', optimizer='adam', metrics=['accuracy'])"
   ]
  },
  {
   "cell_type": "code",
   "execution_count": 237,
   "metadata": {
    "execution": {
     "iopub.execute_input": "2023-12-14T16:03:29.531583Z",
     "iopub.status.busy": "2023-12-14T16:03:29.531169Z",
     "iopub.status.idle": "2023-12-14T16:07:53.622638Z",
     "shell.execute_reply": "2023-12-14T16:07:53.621631Z",
     "shell.execute_reply.started": "2023-12-14T16:03:29.531550Z"
    }
   },
   "outputs": [
    {
     "name": "stdout",
     "output_type": "stream",
     "text": [
      "Epoch 1/50\n",
      "171/171 [==============================] - 323s 2s/step - loss: 0.3395 - accuracy: 0.9057 - val_loss: 0.2087 - val_accuracy: 0.9187\n",
      "Epoch 2/50\n",
      "171/171 [==============================] - 330s 2s/step - loss: 0.2050 - accuracy: 0.9192 - val_loss: 0.1982 - val_accuracy: 0.9238\n",
      "Epoch 3/50\n",
      "171/171 [==============================] - 327s 2s/step - loss: 0.1957 - accuracy: 0.9251 - val_loss: 0.1922 - val_accuracy: 0.9269\n",
      "Epoch 4/50\n",
      "171/171 [==============================] - 323s 2s/step - loss: 0.1915 - accuracy: 0.9273 - val_loss: 0.1892 - val_accuracy: 0.9285\n",
      "Epoch 5/50\n",
      "171/171 [==============================] - 322s 2s/step - loss: 0.1891 - accuracy: 0.9289 - val_loss: 0.1873 - val_accuracy: 0.9297\n",
      "Epoch 6/50\n",
      "171/171 [==============================] - 312s 2s/step - loss: 0.1872 - accuracy: 0.9300 - val_loss: 0.1856 - val_accuracy: 0.9308\n",
      "Epoch 7/50\n",
      "171/171 [==============================] - 311s 2s/step - loss: 0.1858 - accuracy: 0.9308 - val_loss: 0.1843 - val_accuracy: 0.9315\n",
      "Epoch 8/50\n",
      "171/171 [==============================] - 321s 2s/step - loss: 0.1848 - accuracy: 0.9313 - val_loss: 0.1836 - val_accuracy: 0.9318\n",
      "Epoch 9/50\n",
      "171/171 [==============================] - 327s 2s/step - loss: 0.1837 - accuracy: 0.9319 - val_loss: 0.1829 - val_accuracy: 0.9323\n",
      "Epoch 10/50\n",
      "171/171 [==============================] - 323s 2s/step - loss: 0.1832 - accuracy: 0.9321 - val_loss: 0.1825 - val_accuracy: 0.9324\n",
      "Epoch 11/50\n",
      "171/171 [==============================] - 312s 2s/step - loss: 0.1825 - accuracy: 0.9324 - val_loss: 0.1818 - val_accuracy: 0.9328\n",
      "Epoch 12/50\n",
      "171/171 [==============================] - 333s 2s/step - loss: 0.1820 - accuracy: 0.9327 - val_loss: 0.1810 - val_accuracy: 0.9332\n",
      "Epoch 13/50\n",
      "171/171 [==============================] - 312s 2s/step - loss: 0.1815 - accuracy: 0.9329 - val_loss: 0.1808 - val_accuracy: 0.9333\n",
      "Epoch 14/50\n",
      "171/171 [==============================] - 311s 2s/step - loss: 0.1812 - accuracy: 0.9330 - val_loss: 0.1803 - val_accuracy: 0.9335\n",
      "Epoch 15/50\n",
      "171/171 [==============================] - 313s 2s/step - loss: 0.1809 - accuracy: 0.9332 - val_loss: 0.1799 - val_accuracy: 0.9337\n",
      "Epoch 16/50\n",
      "171/171 [==============================] - 310s 2s/step - loss: 0.1802 - accuracy: 0.9336 - val_loss: 0.1795 - val_accuracy: 0.9339\n",
      "Epoch 17/50\n",
      "171/171 [==============================] - 315s 2s/step - loss: 0.1797 - accuracy: 0.9338 - val_loss: 0.1793 - val_accuracy: 0.9340\n",
      "Epoch 18/50\n",
      "171/171 [==============================] - 324s 2s/step - loss: 0.1792 - accuracy: 0.9341 - val_loss: 0.1789 - val_accuracy: 0.9342\n",
      "Epoch 19/50\n",
      "171/171 [==============================] - 344s 2s/step - loss: 0.1788 - accuracy: 0.9343 - val_loss: 0.1783 - val_accuracy: 0.9345\n",
      "Epoch 20/50\n",
      "171/171 [==============================] - 340s 2s/step - loss: 0.1781 - accuracy: 0.9347 - val_loss: 0.1772 - val_accuracy: 0.9350\n",
      "Epoch 21/50\n",
      "171/171 [==============================] - 336s 2s/step - loss: 0.1775 - accuracy: 0.9349 - val_loss: 0.1768 - val_accuracy: 0.9352\n",
      "Epoch 22/50\n",
      "171/171 [==============================] - 331s 2s/step - loss: 0.1770 - accuracy: 0.9352 - val_loss: 0.1764 - val_accuracy: 0.9354\n",
      "Epoch 23/50\n",
      "171/171 [==============================] - 332s 2s/step - loss: 0.1768 - accuracy: 0.9352 - val_loss: 0.1760 - val_accuracy: 0.9356\n",
      "Epoch 24/50\n",
      "171/171 [==============================] - 334s 2s/step - loss: 0.1764 - accuracy: 0.9354 - val_loss: 0.1757 - val_accuracy: 0.9357\n",
      "Epoch 25/50\n",
      "171/171 [==============================] - 340s 2s/step - loss: 0.1761 - accuracy: 0.9356 - val_loss: 0.1759 - val_accuracy: 0.9356\n",
      "Epoch 26/50\n",
      "171/171 [==============================] - 323s 2s/step - loss: 0.1758 - accuracy: 0.9357 - val_loss: 0.1754 - val_accuracy: 0.9359\n",
      "Epoch 27/50\n",
      "171/171 [==============================] - 323s 2s/step - loss: 0.1755 - accuracy: 0.9358 - val_loss: 0.1749 - val_accuracy: 0.9361\n",
      "Epoch 28/50\n",
      "171/171 [==============================] - 325s 2s/step - loss: 0.1751 - accuracy: 0.9360 - val_loss: 0.1745 - val_accuracy: 0.9362\n",
      "Epoch 29/50\n",
      "171/171 [==============================] - 325s 2s/step - loss: 0.1751 - accuracy: 0.9360 - val_loss: 0.1744 - val_accuracy: 0.9362\n",
      "Epoch 30/50\n",
      "171/171 [==============================] - 338s 2s/step - loss: 0.1748 - accuracy: 0.9361 - val_loss: 0.1745 - val_accuracy: 0.9362\n",
      "Epoch 31/50\n",
      "171/171 [==============================] - 336s 2s/step - loss: 0.1745 - accuracy: 0.9363 - val_loss: 0.1739 - val_accuracy: 0.9365\n",
      "Epoch 32/50\n",
      "171/171 [==============================] - 332s 2s/step - loss: 0.1743 - accuracy: 0.9363 - val_loss: 0.1739 - val_accuracy: 0.9364\n",
      "Epoch 33/50\n",
      "171/171 [==============================] - 337s 2s/step - loss: 0.1739 - accuracy: 0.9365 - val_loss: 0.1737 - val_accuracy: 0.9365\n",
      "Epoch 34/50\n",
      "171/171 [==============================] - 332s 2s/step - loss: 0.1738 - accuracy: 0.9366 - val_loss: 0.1740 - val_accuracy: 0.9364\n",
      "Epoch 35/50\n",
      "171/171 [==============================] - 330s 2s/step - loss: 0.1737 - accuracy: 0.9366 - val_loss: 0.1731 - val_accuracy: 0.9368\n",
      "Epoch 36/50\n",
      "171/171 [==============================] - 321s 2s/step - loss: 0.1734 - accuracy: 0.9367 - val_loss: 0.1733 - val_accuracy: 0.9368\n",
      "Epoch 37/50\n",
      "171/171 [==============================] - 331s 2s/step - loss: 0.1738 - accuracy: 0.9367 - val_loss: 0.1731 - val_accuracy: 0.9368\n",
      "Epoch 38/50\n",
      "171/171 [==============================] - 320s 2s/step - loss: 0.1731 - accuracy: 0.9369 - val_loss: 0.1736 - val_accuracy: 0.9366\n",
      "Epoch 39/50\n",
      "171/171 [==============================] - 323s 2s/step - loss: 0.1730 - accuracy: 0.9369 - val_loss: 0.1729 - val_accuracy: 0.9370\n",
      "Epoch 40/50\n",
      "171/171 [==============================] - 321s 2s/step - loss: 0.1728 - accuracy: 0.9370 - val_loss: 0.1724 - val_accuracy: 0.9371\n",
      "Epoch 41/50\n",
      "171/171 [==============================] - 323s 2s/step - loss: 0.1728 - accuracy: 0.9370 - val_loss: 0.1729 - val_accuracy: 0.9369\n",
      "Epoch 42/50\n",
      "171/171 [==============================] - 320s 2s/step - loss: 0.1725 - accuracy: 0.9371 - val_loss: 0.1723 - val_accuracy: 0.9372\n",
      "Epoch 43/50\n",
      "171/171 [==============================] - 322s 2s/step - loss: 0.1723 - accuracy: 0.9372 - val_loss: 0.1733 - val_accuracy: 0.9366\n",
      "Epoch 44/50\n",
      "171/171 [==============================] - 324s 2s/step - loss: 0.1722 - accuracy: 0.9373 - val_loss: 0.1726 - val_accuracy: 0.9371\n",
      "Epoch 45/50\n",
      "171/171 [==============================] - 323s 2s/step - loss: 0.1721 - accuracy: 0.9373 - val_loss: 0.1719 - val_accuracy: 0.9373\n",
      "Epoch 46/50\n",
      "171/171 [==============================] - 324s 2s/step - loss: 0.1720 - accuracy: 0.9374 - val_loss: 0.1721 - val_accuracy: 0.9372\n",
      "Epoch 47/50\n",
      "171/171 [==============================] - 321s 2s/step - loss: 0.1720 - accuracy: 0.9373 - val_loss: 0.1719 - val_accuracy: 0.9373\n",
      "Epoch 48/50\n",
      "171/171 [==============================] - 323s 2s/step - loss: 0.1718 - accuracy: 0.9374 - val_loss: 0.1719 - val_accuracy: 0.9373\n",
      "Epoch 49/50\n",
      "171/171 [==============================] - 322s 2s/step - loss: 0.1717 - accuracy: 0.9375 - val_loss: 0.1718 - val_accuracy: 0.9373\n",
      "Epoch 50/50\n",
      "171/171 [==============================] - 318s 2s/step - loss: 0.1714 - accuracy: 0.9376 - val_loss: 0.1724 - val_accuracy: 0.9370\n"
     ]
    },
    {
     "data": {
      "text/plain": [
       "<keras.src.callbacks.History at 0x1c6318de070>"
      ]
     },
     "execution_count": 237,
     "metadata": {},
     "output_type": "execute_result"
    }
   ],
   "source": [
    "model.fit(X_train_padded, y_train_padded, batch_size=64, epochs=50, validation_data=(X_val_padded, y_val_padded))"
   ]
  },
  {
   "cell_type": "code",
   "execution_count": 238,
   "metadata": {
    "execution": {
     "iopub.execute_input": "2023-12-14T16:07:53.624311Z",
     "iopub.status.busy": "2023-12-14T16:07:53.623988Z",
     "iopub.status.idle": "2023-12-14T16:07:53.644396Z",
     "shell.execute_reply": "2023-12-14T16:07:53.643423Z",
     "shell.execute_reply.started": "2023-12-14T16:07:53.624284Z"
    }
   },
   "outputs": [
    {
     "name": "stdout",
     "output_type": "stream",
     "text": [
      "Model: \"sequential_3\"\n",
      "_________________________________________________________________\n",
      " Layer (type)                Output Shape              Param #   \n",
      "=================================================================\n",
      " embedding_3 (Embedding)     (None, 2128, 128)         2688      \n",
      "                                                                 \n",
      " lstm_3 (LSTM)               (None, 2128, 64)          49408     \n",
      "                                                                 \n",
      " time_distributed_3 (TimeDi  (None, 2128, 8)           520       \n",
      " stributed)                                                      \n",
      "                                                                 \n",
      "=================================================================\n",
      "Total params: 52616 (205.53 KB)\n",
      "Trainable params: 52616 (205.53 KB)\n",
      "Non-trainable params: 0 (0.00 Byte)\n",
      "_________________________________________________________________\n"
     ]
    }
   ],
   "source": [
    "# model summary:\n",
    "model.summary()"
   ]
  },
  {
   "cell_type": "code",
   "execution_count": 239,
   "metadata": {
    "execution": {
     "iopub.execute_input": "2023-12-14T16:07:53.647983Z",
     "iopub.status.busy": "2023-12-14T16:07:53.647681Z",
     "iopub.status.idle": "2023-12-14T16:07:56.619986Z",
     "shell.execute_reply": "2023-12-14T16:07:56.619076Z",
     "shell.execute_reply.started": "2023-12-14T16:07:53.647953Z"
    }
   },
   "outputs": [
    {
     "name": "stdout",
     "output_type": "stream",
     "text": [
      "86/86 [==============================] - 20s 231ms/step - loss: 0.1724 - accuracy: 0.9370\n",
      "Validation accuracy: 93.70%\n"
     ]
    }
   ],
   "source": [
    "loss, accuracy = model.evaluate(X_val_padded, y_val_padded)\n",
    "print('Validation accuracy: {:5.2f}%'.format(100 * accuracy))"
   ]
  },
  {
   "cell_type": "code",
   "execution_count": 19,
   "metadata": {},
   "outputs": [
    {
     "name": "stdout",
     "output_type": "stream",
     "text": [
      "WARNING:tensorflow:From D:\\CS\\Anaconda3\\lib\\site-packages\\keras\\src\\backend.py:1398: The name tf.executing_eagerly_outside_functions is deprecated. Please use tf.compat.v1.executing_eagerly_outside_functions instead.\n",
      "\n"
     ]
    }
   ],
   "source": [
    "model = load_model('pssp_model3.h5')"
   ]
  },
  {
   "cell_type": "code",
   "execution_count": 30,
   "metadata": {
    "execution": {
     "iopub.execute_input": "2023-12-14T16:12:57.787667Z",
     "iopub.status.busy": "2023-12-14T16:12:57.787295Z",
     "iopub.status.idle": "2023-12-14T16:12:57.868989Z",
     "shell.execute_reply": "2023-12-14T16:12:57.868126Z",
     "shell.execute_reply.started": "2023-12-14T16:12:57.787636Z"
    }
   },
   "outputs": [
    {
     "name": "stdout",
     "output_type": "stream",
     "text": [
      "1/1 [==============================] - 0s 69ms/step\n",
      "Predicted sst8 of 4059 :  [1 1 1 ... 0 0 0]\n",
      "Actual sst8 of 4059 :  [1 2 2 ... 0 0 0]\n",
      "Predicted sst8 of 4059 :  ['C' 'C' 'C' ... 'B' 'B' 'B']\n",
      "Actual sst8 of 4059 :  ['C' 'E' 'E' ... 'B' 'B' 'B']\n",
      "2128\n",
      "2128\n"
     ]
    }
   ],
   "source": [
    "import numpy as np\n",
    "\n",
    "#Top 5 indexes with the most sequences\n",
    "#125\n",
    "#1981\n",
    "#4079\n",
    "#5064\n",
    "#8521\n",
    "\n",
    "#Indexes with 100% accuracy\n",
    "#29\n",
    "\n",
    "sample_index = 4059\n",
    "\n",
    "# Retrieve the actual label for the sample\n",
    "actual_class = y_train_padded[sample_index]\n",
    "\n",
    "# Retrieve the sequence for the sample\n",
    "single_sequence = X_train_padded[sample_index]\n",
    "single_sequence = np.expand_dims(single_sequence, axis=0)\n",
    "\n",
    "# Use the model to predict the outcome\n",
    "prediction = model.predict(single_sequence)\n",
    "predicted_class = np.argmax(prediction, axis=-1)\n",
    "shape = prediction.shape\n",
    "\n",
    "# Print the predicted class\n",
    "print(\"Predicted sst8 of\", sample_index, \": \", predicted_class[0])\n",
    "print(\"Actual sst8 of\", sample_index, \": \", actual_class)\n",
    "\n",
    "\n",
    "predicted_sst8 = sst8_encoder.inverse_transform(predicted_class[0])\n",
    "actual_sst8 = sst8_encoder.inverse_transform(actual_class)\n",
    "\n",
    "print(\"Predicted sst8 of\", sample_index, \": \",predicted_sst8)\n",
    "print(\"Actual sst8 of\", sample_index, \": \",actual_sst8)\n",
    "\n",
    "print(len(predicted_class[0]))\n",
    "print(len(actual_class))"
   ]
  },
  {
   "cell_type": "code",
   "execution_count": 31,
   "metadata": {
    "execution": {
     "iopub.execute_input": "2023-12-14T16:12:58.017421Z",
     "iopub.status.busy": "2023-12-14T16:12:58.017116Z",
     "iopub.status.idle": "2023-12-14T16:12:58.022126Z",
     "shell.execute_reply": "2023-12-14T16:12:58.021467Z",
     "shell.execute_reply.started": "2023-12-14T16:12:58.017396Z"
    }
   },
   "outputs": [
    {
     "name": "stdout",
     "output_type": "stream",
     "text": [
      "Mean squared error:  4.021616541353383\n",
      "Accuracy score: 44.06%\n",
      "Length prediction array of 4059 : 1491\n"
     ]
    }
   ],
   "source": [
    "# Check the predicted class accuracy\n",
    "\n",
    "from sklearn.metrics import mean_squared_error, accuracy_score\n",
    "mse = mean_squared_error(actual_class, predicted_class[0])\n",
    "print(\"Mean squared error: \", mse)\n",
    "\n",
    "correct = 0\n",
    "\n",
    "total = 0\n",
    "for i in y_train[sample_index]:\n",
    "    total += 1\n",
    "    if actual_class[i] == predicted_class[0][i]:\n",
    "        correct += 1\n",
    "        \n",
    "acc = correct / total\n",
    "print(\"Accuracy score: {:5.2f}%\".format(100 * acc))\n",
    "\n",
    "print(\"Length prediction array of\", sample_index, \":\", len(y_train[sample_index]))"
   ]
  },
  {
   "cell_type": "code",
   "execution_count": 262,
   "metadata": {},
   "outputs": [
    {
     "name": "stderr",
     "output_type": "stream",
     "text": [
      "D:\\CS\\Anaconda3\\lib\\site-packages\\keras\\src\\engine\\training.py:3103: UserWarning: You are saving your model as an HDF5 file via `model.save()`. This file format is considered legacy. We recommend using instead the native Keras format, e.g. `model.save('my_model.keras')`.\n",
      "  saving_api.save_model(\n"
     ]
    }
   ],
   "source": [
    "model.save('pssp_model3.h5')"
   ]
  }
 ],
 "metadata": {
  "kaggle": {
   "accelerator": "gpu",
   "dataSources": [
    {
     "datasetId": 4164690,
     "sourceId": 7200202,
     "sourceType": "datasetVersion"
    }
   ],
   "dockerImageVersionId": 30627,
   "isGpuEnabled": true,
   "isInternetEnabled": true,
   "language": "python",
   "sourceType": "notebook"
  },
  "kernelspec": {
   "display_name": "Python 3 (ipykernel)",
   "language": "python",
   "name": "python3"
  },
  "language_info": {
   "codemirror_mode": {
    "name": "ipython",
    "version": 3
   },
   "file_extension": ".py",
   "mimetype": "text/x-python",
   "name": "python",
   "nbconvert_exporter": "python",
   "pygments_lexer": "ipython3",
   "version": "3.9.13"
  }
 },
 "nbformat": 4,
 "nbformat_minor": 4
}
